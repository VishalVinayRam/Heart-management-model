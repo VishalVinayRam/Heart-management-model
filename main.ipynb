{
 "cells": [
  {
   "cell_type": "code",
   "execution_count": 3,
   "metadata": {},
   "outputs": [],
   "source": [
    "import pandas as pd\n",
    "import matplotlib.pyplot as plt\n",
    "import seaborn as sns\n",
    "from datetime import datetime"
   ]
  },
  {
   "cell_type": "code",
   "execution_count": 4,
   "metadata": {},
   "outputs": [],
   "source": [
    "daily_act = pd.read_csv('./dailyActivity_merged.csv')\n",
    "sleep_day = pd.read_csv('./sleepDay_merged.csv')\n",
    "sleep_min = pd.read_csv('./minuteSleep_merged.csv')\n",
    "step_min = pd.read_csv('./minuteStepsNarrow_merged.csv')\n",
    "intens_min = pd.read_csv('./minuteIntensitiesNarrow_merged.csv')\n",
    "heart_rate = pd.read_csv('./heartrate_seconds_merged.csv')\n",
    "weight = pd.read_csv('./weightLogInfo_merged.csv')\n",
    "calories_min = pd.read_csv('./minuteCaloriesNarrow_merged.csv')"
   ]
  },
  {
   "cell_type": "code",
   "execution_count": 5,
   "metadata": {},
   "outputs": [],
   "source": [
    "daily_act = pd.read_csv('./dailyActivity_merged.csv')\n",
    "sleep_day = pd.read_csv('./sleepDay_merged.csv')\n",
    "sleep_min = pd.read_csv('./minuteSleep_merged.csv')\n",
    "step_min = pd.read_csv('./minuteStepsNarrow_merged.csv')\n",
    "intens_min = pd.read_csv('./minuteIntensitiesNarrow_merged.csv')\n",
    "heart_rate = pd.read_csv('./heartrate_seconds_merged.csv')\n",
    "weight = pd.read_csv('./weightLogInfo_merged.csv')\n",
    "calories_min = pd.read_csv('./minuteCaloriesNarrow_merged.csv')"
   ]
  },
  {
   "cell_type": "code",
   "execution_count": 6,
   "metadata": {},
   "outputs": [],
   "source": [
    "distinct_daily_act = daily_act['Id'].nunique()\n",
    "distinct_sleep_day = sleep_day['Id'].nunique()\n",
    "distinct_sleep_min = sleep_min['Id'].nunique()\n",
    "distinct_step_min = step_min['Id'].nunique()\n",
    "distinct_intens_min = intens_min['Id'].nunique()\n",
    "distinct_heart_rate = heart_rate['Id'].nunique()\n",
    "distinct_weight = weight['Id'].nunique()\n",
    "distinct_calories_min = calories_min['Id'].nunique()\n"
   ]
  },
  {
   "cell_type": "code",
   "execution_count": 7,
   "metadata": {},
   "outputs": [],
   "source": [
    "duplicates_daily_act = daily_act.duplicated(subset=['Id']).sum()\n",
    "duplicates_sleep_day = sleep_day.duplicated(subset=['Id']).sum()\n",
    "duplicates_sleep_min = sleep_min.duplicated(subset=['Id']).sum()\n",
    "duplicates_step_min = step_min.duplicated(subset=['Id']).sum()\n",
    "duplicates_intens_min = intens_min.duplicated(subset=['Id']).sum()\n",
    "duplicates_heart_rate = heart_rate.duplicated(subset=['Id']).sum()\n",
    "duplicates_weight = weight.duplicated(subset=['Id']).sum()\n",
    "duplicates_calories_min = calories_min.duplicated(subset=['Id']).sum()"
   ]
  },
  {
   "cell_type": "code",
   "execution_count": 8,
   "metadata": {},
   "outputs": [],
   "source": [
    "sleep_day = sleep_day.drop_duplicates(subset=['Id'])\n",
    "sleep_min = sleep_min.drop_duplicates(subset=['Id'])"
   ]
  },
  {
   "cell_type": "code",
   "execution_count": 9,
   "metadata": {},
   "outputs": [
    {
     "name": "stdout",
     "output_type": "stream",
     "text": [
      "       category  user_number\n",
      "0       low use            1\n",
      "1  moderate use            3\n",
      "2      high use           29\n"
     ]
    }
   ],
   "source": [
    "Id_days = daily_act.groupby('Id').size().reset_index(name='days')\n",
    "\n",
    "Id_days['category'] = pd.cut(Id_days['days'],\n",
    "                             bins=[0, 10, 20, 31],\n",
    "                             labels=[\"low use\", \"moderate use\", \"high use\"])\n",
    "\n",
    "Id_days_new = Id_days.groupby('category').size().reset_index(name='user_number')\n",
    "\n",
    "print(Id_days_new.head())"
   ]
  },
  {
   "cell_type": "code",
   "execution_count": 17,
   "metadata": {},
   "outputs": [
    {
     "name": "stdout",
     "output_type": "stream",
     "text": [
      "Column names of sleep_day: Index(['Id', 'SleepDay', 'TotalSleepRecords', 'TotalMinutesAsleep',\n",
      "       'TotalTimeInBed'],\n",
      "      dtype='object')\n",
      "           Id ActivityDate  TotalSteps  TotalDistance  TrackerDistance  \\\n",
      "0  1503960366   2016-04-12       13162            8.5              8.5   \n",
      "1  1503960366   2016-04-12       13162            8.5              8.5   \n",
      "2  1503960366   2016-04-12       13162            8.5              8.5   \n",
      "3  1503960366   2016-04-12       13162            8.5              8.5   \n",
      "4  1503960366   2016-04-12       13162            8.5              8.5   \n",
      "\n",
      "   LoggedActivitiesDistance  VeryActiveDistance  ModeratelyActiveDistance  \\\n",
      "0                       0.0                1.88                      0.55   \n",
      "1                       0.0                1.88                      0.55   \n",
      "2                       0.0                1.88                      0.55   \n",
      "3                       0.0                1.88                      0.55   \n",
      "4                       0.0                1.88                      0.55   \n",
      "\n",
      "   LightActiveDistance  SedentaryActiveDistance  VeryActiveMinutes  \\\n",
      "0                 6.06                      0.0                 25   \n",
      "1                 6.06                      0.0                 25   \n",
      "2                 6.06                      0.0                 25   \n",
      "3                 6.06                      0.0                 25   \n",
      "4                 6.06                      0.0                 25   \n",
      "\n",
      "   FairlyActiveMinutes  LightlyActiveMinutes  SedentaryMinutes  Calories  \\\n",
      "0                   13                   328               728      1985   \n",
      "1                   13                   328               728      1985   \n",
      "2                   13                   328               728      1985   \n",
      "3                   13                   328               728      1985   \n",
      "4                   13                   328               728      1985   \n",
      "\n",
      "                SleepDay      time am_pm  \n",
      "0  4/12/2016 12:00:00 AM  12:00:00    AM  \n",
      "1  4/12/2016 12:00:00 AM  12:00:00    AM  \n",
      "2  4/12/2016 12:00:00 AM  12:00:00    AM  \n",
      "3  4/12/2016 12:00:00 AM  12:00:00    AM  \n",
      "4  4/12/2016 12:00:00 AM  12:00:00    AM  \n"
     ]
    }
   ],
   "source": [
    "daily_act['ActivityDate'] = pd.to_datetime(daily_act['ActivityDate'], format='%m/%d/%Y')\n",
    "\n",
    "# Print the column names of sleep_day to ensure 'Id' is present\n",
    "print(\"Column names of sleep_day:\", sleep_day.columns)\n",
    "\n",
    "# Separate 'SleepDay' column in sleep_day\n",
    "sleep_day1 = sleep_day[['SleepDay']].copy()\n",
    "sleep_day1[['ActivityDate', 'time', 'am_pm']] = sleep_day1['SleepDay'].str.split(' ', expand=True)\n",
    "sleep_day1['ActivityDate'] = pd.to_datetime(sleep_day1['ActivityDate'], format='%m/%d/%Y')\n",
    "\n",
    "# Merge 'Id' column from daily_act into sleep_day1\n",
    "sleep_day1 = pd.merge(sleep_day1, daily_act[['Id', 'ActivityDate']], on='ActivityDate', how='left')\n",
    "\n",
    "# Merge two tables\n",
    "full_day = pd.merge(daily_act, sleep_day1, on=['Id', 'ActivityDate'], how='outer')\n",
    "\n",
    "# Fill NaN values with 0\n",
    "full_day = full_day.fillna(0)\n",
    "\n",
    "# Print the results\n",
    "print(full_day.head())"
   ]
  },
  {
   "cell_type": "code",
   "execution_count": 18,
   "metadata": {},
   "outputs": [
    {
     "name": "stdout",
     "output_type": "stream",
     "text": [
      "                 Id      value         logId  minutes\n",
      "count  2.400000e+01  24.000000  2.400000e+01     24.0\n",
      "mean   4.763820e+09   1.875000  1.140184e+10      1.0\n",
      "std    2.288233e+09   0.797414  3.987637e+07      0.0\n",
      "min    1.503960e+09   1.000000  1.137223e+10      1.0\n",
      "25%    2.340408e+09   1.000000  1.137484e+10      1.0\n",
      "50%    4.501862e+09   2.000000  1.138018e+10      1.0\n",
      "75%    6.822462e+09   2.250000  1.141987e+10      1.0\n",
      "max    8.792010e+09   3.000000  1.152362e+10      1.0\n"
     ]
    }
   ],
   "source": [
    "sleep_min = sleep_min.copy()\n",
    "\n",
    "sleep_min['minutes'] = sleep_min['value']\n",
    "\n",
    "sleep_min.loc[sleep_min['minutes'] != 0, 'minutes'] = 1\n",
    "\n",
    "print(sleep_min.describe())"
   ]
  },
  {
   "cell_type": "code",
   "execution_count": 19,
   "metadata": {},
   "outputs": [
    {
     "name": "stdout",
     "output_type": "stream",
     "text": [
      "           Id         ActivityDate  TotalSteps  TotalDistance  \\\n",
      "0  1503960366  2016-04-12 00:00:00     13162.0            8.5   \n",
      "1  1503960366  2016-04-12 00:00:00     13162.0            8.5   \n",
      "2  1503960366  2016-04-12 00:00:00     13162.0            8.5   \n",
      "3  1503960366  2016-04-12 00:00:00     13162.0            8.5   \n",
      "4  1503960366  2016-04-12 00:00:00     13162.0            8.5   \n",
      "\n",
      "   TrackerDistance  LoggedActivitiesDistance  VeryActiveDistance  \\\n",
      "0              8.5                       0.0                1.88   \n",
      "1              8.5                       0.0                1.88   \n",
      "2              8.5                       0.0                1.88   \n",
      "3              8.5                       0.0                1.88   \n",
      "4              8.5                       0.0                1.88   \n",
      "\n",
      "   ModeratelyActiveDistance  LightActiveDistance  SedentaryActiveDistance  \\\n",
      "0                      0.55                 6.06                      0.0   \n",
      "1                      0.55                 6.06                      0.0   \n",
      "2                      0.55                 6.06                      0.0   \n",
      "3                      0.55                 6.06                      0.0   \n",
      "4                      0.55                 6.06                      0.0   \n",
      "\n",
      "   VeryActiveMinutes  FairlyActiveMinutes  LightlyActiveMinutes  \\\n",
      "0               25.0                 13.0                 328.0   \n",
      "1               25.0                 13.0                 328.0   \n",
      "2               25.0                 13.0                 328.0   \n",
      "3               25.0                 13.0                 328.0   \n",
      "4               25.0                 13.0                 328.0   \n",
      "\n",
      "   SedentaryMinutes  Calories               SleepDay      time am_pm  \\\n",
      "0             728.0    1985.0  4/12/2016 12:00:00 AM  12:00:00    AM   \n",
      "1             728.0    1985.0  4/12/2016 12:00:00 AM  12:00:00    AM   \n",
      "2             728.0    1985.0  4/12/2016 12:00:00 AM  12:00:00    AM   \n",
      "3             728.0    1985.0  4/12/2016 12:00:00 AM  12:00:00    AM   \n",
      "4             728.0    1985.0  4/12/2016 12:00:00 AM  12:00:00    AM   \n",
      "\n",
      "             SleepDate  total_sleep  \n",
      "0  2016-04-12 00:00:00          1.0  \n",
      "1  2016-04-12 00:00:00          1.0  \n",
      "2  2016-04-12 00:00:00          1.0  \n",
      "3  2016-04-12 00:00:00          1.0  \n",
      "4  2016-04-12 00:00:00          1.0  \n"
     ]
    }
   ],
   "source": [
    "import pandas as pd\n",
    "\n",
    "\n",
    "sleep_min[['SleepDate', 'time', 'am_pm']] = sleep_min['date'].str.split(' ', expand=True)\n",
    "sleep_min['SleepDate'] = pd.to_datetime(sleep_min['SleepDate'], format='%m/%d/%Y')\n",
    "\n",
    "sleep_min1 = sleep_min.groupby(['Id', 'SleepDate']).agg(total_sleep=('minutes', 'sum')).reset_index()\n",
    "\n",
    "full_day_new = pd.merge(full_day, sleep_min1, left_on=['Id', 'ActivityDate'], right_on=['Id', 'SleepDate'], how='outer')\n",
    "\n",
    "full_day_new = full_day_new.fillna(0)\n",
    "\n",
    "print(full_day_new.head())\n"
   ]
  },
  {
   "cell_type": "code",
   "execution_count": null,
   "metadata": {},
   "outputs": [],
   "source": []
  },
  {
   "cell_type": "code",
   "execution_count": null,
   "metadata": {},
   "outputs": [],
   "source": []
  },
  {
   "cell_type": "code",
   "execution_count": null,
   "metadata": {},
   "outputs": [],
   "source": []
  },
  {
   "cell_type": "code",
   "execution_count": null,
   "metadata": {},
   "outputs": [],
   "source": []
  },
  {
   "cell_type": "code",
   "execution_count": null,
   "metadata": {},
   "outputs": [],
   "source": []
  }
 ],
 "metadata": {
  "kernelspec": {
   "display_name": "Python 3",
   "language": "python",
   "name": "python3"
  },
  "language_info": {
   "codemirror_mode": {
    "name": "ipython",
    "version": 3
   },
   "file_extension": ".py",
   "mimetype": "text/x-python",
   "name": "python",
   "nbconvert_exporter": "python",
   "pygments_lexer": "ipython3",
   "version": "3.8.10"
  }
 },
 "nbformat": 4,
 "nbformat_minor": 2
}
