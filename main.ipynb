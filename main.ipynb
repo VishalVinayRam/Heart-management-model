{
 "cells": [
  {
   "cell_type": "code",
   "execution_count": 20,
   "metadata": {},
   "outputs": [],
   "source": [
    "import pandas as pd\n",
    "import matplotlib.pyplot as plt\n",
    "import seaborn as sns\n",
    "from datetime import datetime"
   ]
  },
  {
   "cell_type": "code",
   "execution_count": 21,
   "metadata": {},
   "outputs": [],
   "source": [
    "daily_act = pd.read_csv('./dailyActivity_merged.csv')\n",
    "sleep_day = pd.read_csv('./sleepDay_merged.csv')\n",
    "sleep_min = pd.read_csv('./minuteSleep_merged.csv')\n",
    "step_min = pd.read_csv('./minuteStepsNarrow_merged.csv')\n",
    "intens_min = pd.read_csv('./minuteIntensitiesNarrow_merged.csv')\n",
    "heart_rate = pd.read_csv('./heartrate_seconds_merged.csv')\n",
    "weight = pd.read_csv('./weightLogInfo_merged.csv')\n",
    "calories_min = pd.read_csv('./minuteCaloriesNarrow_merged.csv')"
   ]
  },
  {
   "cell_type": "code",
   "execution_count": 22,
   "metadata": {},
   "outputs": [],
   "source": [
    "daily_act = pd.read_csv('./dailyActivity_merged.csv')\n",
    "sleep_day = pd.read_csv('./sleepDay_merged.csv')\n",
    "sleep_min = pd.read_csv('./minuteSleep_merged.csv')\n",
    "step_min = pd.read_csv('./minuteStepsNarrow_merged.csv')\n",
    "intens_min = pd.read_csv('./minuteIntensitiesNarrow_merged.csv')\n",
    "heart_rate = pd.read_csv('./heartrate_seconds_merged.csv')\n",
    "weight = pd.read_csv('./weightLogInfo_merged.csv')\n",
    "calories_min = pd.read_csv('./minuteCaloriesNarrow_merged.csv')"
   ]
  },
  {
   "cell_type": "code",
   "execution_count": 23,
   "metadata": {},
   "outputs": [],
   "source": [
    "distinct_daily_act = daily_act['Id'].nunique()\n",
    "distinct_sleep_day = sleep_day['Id'].nunique()\n",
    "distinct_sleep_min = sleep_min['Id'].nunique()\n",
    "distinct_step_min = step_min['Id'].nunique()\n",
    "distinct_intens_min = intens_min['Id'].nunique()\n",
    "distinct_heart_rate = heart_rate['Id'].nunique()\n",
    "distinct_weight = weight['Id'].nunique()\n",
    "distinct_calories_min = calories_min['Id'].nunique()\n"
   ]
  },
  {
   "cell_type": "code",
   "execution_count": 24,
   "metadata": {},
   "outputs": [],
   "source": [
    "duplicates_daily_act = daily_act.duplicated(subset=['Id']).sum()\n",
    "duplicates_sleep_day = sleep_day.duplicated(subset=['Id']).sum()\n",
    "duplicates_sleep_min = sleep_min.duplicated(subset=['Id']).sum()\n",
    "duplicates_step_min = step_min.duplicated(subset=['Id']).sum()\n",
    "duplicates_intens_min = intens_min.duplicated(subset=['Id']).sum()\n",
    "duplicates_heart_rate = heart_rate.duplicated(subset=['Id']).sum()\n",
    "duplicates_weight = weight.duplicated(subset=['Id']).sum()\n",
    "duplicates_calories_min = calories_min.duplicated(subset=['Id']).sum()"
   ]
  },
  {
   "cell_type": "code",
   "execution_count": 25,
   "metadata": {},
   "outputs": [],
   "source": [
    "sleep_day = sleep_day.drop_duplicates(subset=['Id'])\n",
    "sleep_min = sleep_min.drop_duplicates(subset=['Id'])"
   ]
  },
  {
   "cell_type": "code",
   "execution_count": 26,
   "metadata": {},
   "outputs": [
    {
     "name": "stdout",
     "output_type": "stream",
     "text": [
      "       category  user_number\n",
      "0       low use            1\n",
      "1  moderate use            3\n",
      "2      high use           29\n"
     ]
    }
   ],
   "source": [
    "Id_days = daily_act.groupby('Id').size().reset_index(name='days')\n",
    "\n",
    "Id_days['category'] = pd.cut(Id_days['days'],\n",
    "                             bins=[0, 10, 20, 31],\n",
    "                             labels=[\"low use\", \"moderate use\", \"high use\"])\n",
    "\n",
    "Id_days_new = Id_days.groupby('category').size().reset_index(name='user_number')\n",
    "\n",
    "print(Id_days_new.head())"
   ]
  },
  {
   "cell_type": "code",
   "execution_count": 28,
   "metadata": {},
   "outputs": [
    {
     "name": "stdout",
     "output_type": "stream",
     "text": [
      "Column names of sleep_day: Index(['Id', 'SleepDay', 'TotalSleepRecords', 'TotalMinutesAsleep',\n",
      "       'TotalTimeInBed'],\n",
      "      dtype='object')\n",
      "           Id ActivityDate  TotalSteps  TotalDistance  TrackerDistance  \\\n",
      "0  1503960366   2016-04-12       13162            8.5              8.5   \n",
      "1  1503960366   2016-04-12       13162            8.5              8.5   \n",
      "2  1503960366   2016-04-12       13162            8.5              8.5   \n",
      "3  1503960366   2016-04-12       13162            8.5              8.5   \n",
      "4  1503960366   2016-04-12       13162            8.5              8.5   \n",
      "\n",
      "   LoggedActivitiesDistance  VeryActiveDistance  ModeratelyActiveDistance  \\\n",
      "0                       0.0                1.88                      0.55   \n",
      "1                       0.0                1.88                      0.55   \n",
      "2                       0.0                1.88                      0.55   \n",
      "3                       0.0                1.88                      0.55   \n",
      "4                       0.0                1.88                      0.55   \n",
      "\n",
      "   LightActiveDistance  SedentaryActiveDistance  VeryActiveMinutes  \\\n",
      "0                 6.06                      0.0                 25   \n",
      "1                 6.06                      0.0                 25   \n",
      "2                 6.06                      0.0                 25   \n",
      "3                 6.06                      0.0                 25   \n",
      "4                 6.06                      0.0                 25   \n",
      "\n",
      "   FairlyActiveMinutes  LightlyActiveMinutes  SedentaryMinutes  Calories  \\\n",
      "0                   13                   328               728      1985   \n",
      "1                   13                   328               728      1985   \n",
      "2                   13                   328               728      1985   \n",
      "3                   13                   328               728      1985   \n",
      "4                   13                   328               728      1985   \n",
      "\n",
      "                SleepDay      time am_pm  \n",
      "0  4/12/2016 12:00:00 AM  12:00:00    AM  \n",
      "1  4/12/2016 12:00:00 AM  12:00:00    AM  \n",
      "2  4/12/2016 12:00:00 AM  12:00:00    AM  \n",
      "3  4/12/2016 12:00:00 AM  12:00:00    AM  \n",
      "4  4/12/2016 12:00:00 AM  12:00:00    AM  \n"
     ]
    }
   ],
   "source": [
    "import pandas as pd\n",
    "\n",
    "\n",
    "daily_act['ActivityDate'] = pd.to_datetime(daily_act['ActivityDate'], format='%m/%d/%Y')\n",
    "\n",
    "print(\"Column names of sleep_day:\", sleep_day.columns)\n",
    "\n",
    "sleep_day1 = sleep_day[['SleepDay']].copy()\n",
    "sleep_day1[['ActivityDate', 'time', 'am_pm']] = sleep_day1['SleepDay'].str.split(' ', expand=True)\n",
    "sleep_day1['ActivityDate'] = pd.to_datetime(sleep_day1['ActivityDate'], format='%m/%d/%Y')\n",
    "\n",
    "sleep_day1 = pd.merge(sleep_day1, daily_act[['Id', 'ActivityDate']], on='ActivityDate', how='left')\n",
    "\n",
    "full_day = pd.merge(daily_act, sleep_day1, on=['Id', 'ActivityDate'], how='outer')\n",
    "\n",
    "full_day = full_day.fillna(0)\n",
    "\n",
    "print(full_day.head())"
   ]
  },
  {
   "cell_type": "code",
   "execution_count": 27,
   "metadata": {},
   "outputs": [
    {
     "name": "stdout",
     "output_type": "stream",
     "text": [
      "                 Id      value         logId  minutes\n",
      "count  2.400000e+01  24.000000  2.400000e+01     24.0\n",
      "mean   4.763820e+09   1.875000  1.140184e+10      1.0\n",
      "std    2.288233e+09   0.797414  3.987637e+07      0.0\n",
      "min    1.503960e+09   1.000000  1.137223e+10      1.0\n",
      "25%    2.340408e+09   1.000000  1.137484e+10      1.0\n",
      "50%    4.501862e+09   2.000000  1.138018e+10      1.0\n",
      "75%    6.822462e+09   2.250000  1.141987e+10      1.0\n",
      "max    8.792010e+09   3.000000  1.152362e+10      1.0\n"
     ]
    }
   ],
   "source": [
    "sleep_min = sleep_min.copy()\n",
    "\n",
    "sleep_min['minutes'] = sleep_min['value']\n",
    "\n",
    "sleep_min.loc[sleep_min['minutes'] != 0, 'minutes'] = 1\n",
    "\n",
    "print(sleep_min.describe())"
   ]
  },
  {
   "cell_type": "code",
   "execution_count": 29,
   "metadata": {},
   "outputs": [
    {
     "name": "stdout",
     "output_type": "stream",
     "text": [
      "           Id         ActivityDate  TotalSteps  TotalDistance  \\\n",
      "0  1503960366  2016-04-12 00:00:00     13162.0            8.5   \n",
      "1  1503960366  2016-04-12 00:00:00     13162.0            8.5   \n",
      "2  1503960366  2016-04-12 00:00:00     13162.0            8.5   \n",
      "3  1503960366  2016-04-12 00:00:00     13162.0            8.5   \n",
      "4  1503960366  2016-04-12 00:00:00     13162.0            8.5   \n",
      "\n",
      "   TrackerDistance  LoggedActivitiesDistance  VeryActiveDistance  \\\n",
      "0              8.5                       0.0                1.88   \n",
      "1              8.5                       0.0                1.88   \n",
      "2              8.5                       0.0                1.88   \n",
      "3              8.5                       0.0                1.88   \n",
      "4              8.5                       0.0                1.88   \n",
      "\n",
      "   ModeratelyActiveDistance  LightActiveDistance  SedentaryActiveDistance  \\\n",
      "0                      0.55                 6.06                      0.0   \n",
      "1                      0.55                 6.06                      0.0   \n",
      "2                      0.55                 6.06                      0.0   \n",
      "3                      0.55                 6.06                      0.0   \n",
      "4                      0.55                 6.06                      0.0   \n",
      "\n",
      "   VeryActiveMinutes  FairlyActiveMinutes  LightlyActiveMinutes  \\\n",
      "0               25.0                 13.0                 328.0   \n",
      "1               25.0                 13.0                 328.0   \n",
      "2               25.0                 13.0                 328.0   \n",
      "3               25.0                 13.0                 328.0   \n",
      "4               25.0                 13.0                 328.0   \n",
      "\n",
      "   SedentaryMinutes  Calories               SleepDay      time am_pm  \\\n",
      "0             728.0    1985.0  4/12/2016 12:00:00 AM  12:00:00    AM   \n",
      "1             728.0    1985.0  4/12/2016 12:00:00 AM  12:00:00    AM   \n",
      "2             728.0    1985.0  4/12/2016 12:00:00 AM  12:00:00    AM   \n",
      "3             728.0    1985.0  4/12/2016 12:00:00 AM  12:00:00    AM   \n",
      "4             728.0    1985.0  4/12/2016 12:00:00 AM  12:00:00    AM   \n",
      "\n",
      "             SleepDate  total_sleep  \n",
      "0  2016-04-12 00:00:00          1.0  \n",
      "1  2016-04-12 00:00:00          1.0  \n",
      "2  2016-04-12 00:00:00          1.0  \n",
      "3  2016-04-12 00:00:00          1.0  \n",
      "4  2016-04-12 00:00:00          1.0  \n"
     ]
    }
   ],
   "source": [
    "\n",
    "sleep_min[['SleepDate', 'time', 'am_pm']] = sleep_min['date'].str.split(' ', expand=True)\n",
    "sleep_min['SleepDate'] = pd.to_datetime(sleep_min['SleepDate'], format='%m/%d/%Y')\n",
    "\n",
    "sleep_min1 = sleep_min.groupby(['Id', 'SleepDate']).agg(total_sleep=('minutes', 'sum')).reset_index()\n",
    "\n",
    "full_day_new = pd.merge(full_day, sleep_min1, left_on=['Id', 'ActivityDate'], right_on=['Id', 'SleepDate'], how='outer')\n",
    "\n",
    "full_day_new = full_day_new.fillna(0)\n",
    "\n",
    "print(full_day_new.head())"
   ]
  },
  {
   "cell_type": "code",
   "execution_count": 30,
   "metadata": {},
   "outputs": [
    {
     "name": "stdout",
     "output_type": "stream",
     "text": [
      "Full Day Check3:\n",
      "Empty DataFrame\n",
      "Columns: [Id, ActivityDate, TotalSteps, TotalDistance, TrackerDistance, LoggedActivitiesDistance, VeryActiveDistance, ModeratelyActiveDistance, LightActiveDistance, SedentaryActiveDistance, VeryActiveMinutes, FairlyActiveMinutes, LightlyActiveMinutes, SedentaryMinutes, Calories, SleepDay, time, am_pm, SleepDate, total_sleep, total_time_check]\n",
      "Index: []\n",
      "\n",
      "[0 rows x 21 columns]\n",
      "\n",
      "Full Day Check4:\n",
      "           Id         ActivityDate  TotalSteps  TotalDistance  \\\n",
      "0  1503960366  2016-04-12 00:00:00     13162.0            8.5   \n",
      "1  1503960366  2016-04-12 00:00:00     13162.0            8.5   \n",
      "2  1503960366  2016-04-12 00:00:00     13162.0            8.5   \n",
      "3  1503960366  2016-04-12 00:00:00     13162.0            8.5   \n",
      "4  1503960366  2016-04-12 00:00:00     13162.0            8.5   \n",
      "\n",
      "   TrackerDistance  LoggedActivitiesDistance  VeryActiveDistance  \\\n",
      "0              8.5                       0.0                1.88   \n",
      "1              8.5                       0.0                1.88   \n",
      "2              8.5                       0.0                1.88   \n",
      "3              8.5                       0.0                1.88   \n",
      "4              8.5                       0.0                1.88   \n",
      "\n",
      "   ModeratelyActiveDistance  LightActiveDistance  SedentaryActiveDistance  \\\n",
      "0                      0.55                 6.06                      0.0   \n",
      "1                      0.55                 6.06                      0.0   \n",
      "2                      0.55                 6.06                      0.0   \n",
      "3                      0.55                 6.06                      0.0   \n",
      "4                      0.55                 6.06                      0.0   \n",
      "\n",
      "   ...  FairlyActiveMinutes  LightlyActiveMinutes  SedentaryMinutes  Calories  \\\n",
      "0  ...                 13.0                 328.0             728.0    1985.0   \n",
      "1  ...                 13.0                 328.0             728.0    1985.0   \n",
      "2  ...                 13.0                 328.0             728.0    1985.0   \n",
      "3  ...                 13.0                 328.0             728.0    1985.0   \n",
      "4  ...                 13.0                 328.0             728.0    1985.0   \n",
      "\n",
      "                SleepDay      time am_pm            SleepDate total_sleep  \\\n",
      "0  4/12/2016 12:00:00 AM  12:00:00    AM  2016-04-12 00:00:00         1.0   \n",
      "1  4/12/2016 12:00:00 AM  12:00:00    AM  2016-04-12 00:00:00         1.0   \n",
      "2  4/12/2016 12:00:00 AM  12:00:00    AM  2016-04-12 00:00:00         1.0   \n",
      "3  4/12/2016 12:00:00 AM  12:00:00    AM  2016-04-12 00:00:00         1.0   \n",
      "4  4/12/2016 12:00:00 AM  12:00:00    AM  2016-04-12 00:00:00         1.0   \n",
      "\n",
      "   total_time_check  \n",
      "0             18.25  \n",
      "1             18.25  \n",
      "2             18.25  \n",
      "3             18.25  \n",
      "4             18.25  \n",
      "\n",
      "[5 rows x 21 columns]\n"
     ]
    }
   ],
   "source": [
    "full_day_new['total_time_check'] = (full_day_new['VeryActiveMinutes'] +\n",
    "                                    full_day_new['FairlyActiveMinutes'] +\n",
    "                                    full_day_new['LightlyActiveMinutes'] +\n",
    "                                    full_day_new['SedentaryMinutes'] +\n",
    "                                    full_day_new['total_sleep']) / 60\n",
    "\n",
    "# Filter on days that are more than 24 hours\n",
    "full_day_check3 = full_day_new[full_day_new['total_time_check'] > 24]\n",
    "\n",
    "# Display information for full_day_check3\n",
    "print(\"Full Day Check3:\")\n",
    "print(full_day_check3.head())\n",
    "\n",
    "# Filter on days that are less than 24 hours\n",
    "full_day_check4 = full_day_new[full_day_new['total_time_check'] < 24]\n",
    "\n",
    "# Display information for full_day_check4\n",
    "print(\"\\nFull Day Check4:\")\n",
    "print(full_day_check4.head())"
   ]
  },
  {
   "cell_type": "code",
   "execution_count": 32,
   "metadata": {},
   "outputs": [
    {
     "name": "stdout",
     "output_type": "stream",
     "text": [
      "           Id  mean_sleep  mean_sedentary\n",
      "0  1503960366    0.004710       13.515942\n",
      "1  1624580081    0.000000       21.165942\n",
      "2  1644430081    0.000370       19.290741\n",
      "3  1844505072    0.000362       19.430797\n",
      "4  1927972279    0.000355       18.799645\n"
     ]
    }
   ],
   "source": [
    "average_sleep = full_day_new.groupby('Id').agg(\n",
    "    mean_sleep=('total_sleep', 'mean'),\n",
    "    mean_sedentary=('SedentaryMinutes', 'mean')\n",
    ").reset_index()\n",
    "\n",
    "average_sleep['mean_sleep'] /= 60\n",
    "average_sleep['mean_sedentary'] /= 60\n",
    "\n",
    "print(average_sleep.head())"
   ]
  },
  {
   "cell_type": "code",
   "execution_count": 33,
   "metadata": {},
   "outputs": [
    {
     "name": "stdout",
     "output_type": "stream",
     "text": [
      "           Id         ActivityMinute  Steps\n",
      "0  1503960366  4/12/2016 12:00:00 AM      0\n",
      "1  1503960366  4/12/2016 12:01:00 AM      0\n",
      "2  1503960366  4/12/2016 12:02:00 AM      0\n",
      "3  1503960366  4/12/2016 12:03:00 AM      0\n",
      "4  1503960366  4/12/2016 12:04:00 AM      0\n",
      "           Id         ActivityMinute  Intensity\n",
      "0  1503960366  4/12/2016 12:00:00 AM          0\n",
      "1  1503960366  4/12/2016 12:01:00 AM          0\n",
      "2  1503960366  4/12/2016 12:02:00 AM          0\n",
      "3  1503960366  4/12/2016 12:03:00 AM          0\n",
      "4  1503960366  4/12/2016 12:04:00 AM          0\n",
      "           Id         ActivityMinute  Calories\n",
      "0  1503960366  4/12/2016 12:00:00 AM    0.7865\n",
      "1  1503960366  4/12/2016 12:01:00 AM    0.7865\n",
      "2  1503960366  4/12/2016 12:02:00 AM    0.7865\n",
      "3  1503960366  4/12/2016 12:03:00 AM    0.7865\n",
      "4  1503960366  4/12/2016 12:04:00 AM    0.7865\n",
      "           Id                  Time  Value\n",
      "0  2022484408  4/12/2016 7:21:00 AM     97\n",
      "1  2022484408  4/12/2016 7:21:05 AM    102\n",
      "2  2022484408  4/12/2016 7:21:10 AM    105\n",
      "3  2022484408  4/12/2016 7:21:20 AM    103\n",
      "4  2022484408  4/12/2016 7:21:25 AM    101\n"
     ]
    }
   ],
   "source": [
    "# checking download \n",
    "print(step_min.head())\n",
    "print(intens_min.head())\n",
    "print(calories_min.head())\n",
    "print(heart_rate.head())"
   ]
  },
  {
   "cell_type": "code",
   "execution_count": 34,
   "metadata": {},
   "outputs": [],
   "source": [
    "weight[['WeightDate', 'time', 'am_pm']] = weight['Date'].str.split(' ', expand=True)\n",
    "weight['WeightDate'] = pd.to_datetime(weight['WeightDate'], format='%m/%d/%Y')\n",
    "weight['time'] = pd.to_datetime(weight['time'], format='%H:%M:%S').dt.time\n",
    "\n",
    "\n",
    "\n"
   ]
  },
  {
   "cell_type": "code",
   "execution_count": 35,
   "metadata": {},
   "outputs": [],
   "source": [
    "calories_min[['ActivityDate', 'time', 'am_pm']] = calories_min['ActivityMinute'].str.split(' ', expand=True)\n",
    "calories_min['ActivityDate'] = pd.to_datetime(calories_min['ActivityDate'], format='%m/%d/%Y')\n",
    "calories_min['time'] = pd.to_datetime(calories_min['time'], format='%H:%M:%S').dt.time"
   ]
  },
  {
   "cell_type": "code",
   "execution_count": 46,
   "metadata": {},
   "outputs": [
    {
     "name": "stderr",
     "output_type": "stream",
     "text": [
      "/tmp/ipykernel_63295/514664688.py:5: UserWarning: Could not infer format, so each element will be parsed individually, falling back to `dateutil`. To ensure parsing is consistent and as-expected, please specify a format.\n",
      "  heart_rate['time'] = pd.to_datetime(split_time[1], errors='coerce').dt.time\n"
     ]
    }
   ],
   "source": [
    "split_time = heart_rate['Time'].str.split(' ', expand=True)\n",
    "\n",
    "# Assign separate columns to heart_rate\n",
    "heart_rate['ActivityDate'] = pd.to_datetime(split_time[0], format='%m/%d/%Y', errors='coerce')\n",
    "heart_rate['time'] = pd.to_datetime(split_time[1], errors='coerce').dt.time"
   ]
  },
  {
   "cell_type": "code",
   "execution_count": 40,
   "metadata": {},
   "outputs": [],
   "source": [
    "# Separate 'Time' column in heart_rate\n",
    "split_time = heart_rate['Time'].str.split(' ', expand=True)\n",
    "\n",
    "# Assign separate columns to heart_rate\n",
    "heart_rate['ActivityDate'] = pd.to_datetime(split_time[0], format='%m/%d/%Y', errors='coerce')\n",
    "heart_rate['time'] = pd.to_datetime(split_time[1], format='%H:%M:%S', errors='coerce').dt.time\n"
   ]
  },
  {
   "cell_type": "code",
   "execution_count": 56,
   "metadata": {},
   "outputs": [
    {
     "name": "stdout",
     "output_type": "stream",
     "text": [
      "           Id                  Time  Value ActivityDate      time  \\\n",
      "0  2022484408  4/12/2016 7:21:00 AM   97.0   2016-04-12  07:21:00   \n",
      "1  2022484408  4/12/2016 7:21:00 AM   97.0   2016-04-12  07:21:00   \n",
      "2  2022484408  4/12/2016 7:21:05 AM  102.0   2016-04-12  07:21:05   \n",
      "3  2022484408  4/12/2016 7:21:10 AM  105.0   2016-04-12  07:21:10   \n",
      "4  2022484408  4/12/2016 7:21:10 PM   74.0   2016-04-12  07:21:10   \n",
      "\n",
      "         ActivityMinute  Calories am_pm  TotalSteps  \n",
      "0  4/12/2016 7:21:00 AM   3.32064    AM         NaN  \n",
      "1  4/12/2016 7:21:00 PM   1.14147    PM         NaN  \n",
      "2                   NaN       NaN   NaN         NaN  \n",
      "3                   NaN       NaN   NaN         NaN  \n",
      "4                   NaN       NaN   NaN         NaN  \n"
     ]
    }
   ],
   "source": [
    "intensity_steps['ActivityDate'] = pd.to_datetime(intensity_steps['ActivityDate'])\n",
    "\n",
    "# Now you can proceed with the merging\n",
    "full_data = pd.merge(heart_rate, calories_min, on=['Id', 'ActivityDate', 'time'], how='outer')\n",
    "full_data = pd.merge(full_data, intensity_steps, on=['Id', 'ActivityDate'], how='outer')\n",
    "\n",
    "# Continue with the merging of other DataFrames (e.g., weight) if needed\n",
    "# full_data = pd.merge(full_data, weight, on=['Id', 'ActivityDate', 'time'], how='outer')\n",
    "\n",
    "# Print or inspect the resulting DataFrame\n",
    "print(full_data.head())"
   ]
  },
  {
   "cell_type": "code",
   "execution_count": 57,
   "metadata": {},
   "outputs": [
    {
     "name": "stdout",
     "output_type": "stream",
     "text": [
      "Column names of heart_rate: Index(['Id', 'Time', 'Value', 'ActivityDate', 'time'], dtype='object')\n",
      "Column names of calories_min: Index(['Id', 'ActivityMinute', 'Calories', 'ActivityDate', 'time', 'am_pm'], dtype='object')\n",
      "Column names of intensity_steps: Index(['Id', 'ActivityDate', 'TotalSteps'], dtype='object')\n",
      "Column names of weight: Index(['Id', 'Date', 'WeightKg', 'WeightPounds', 'Fat', 'BMI',\n",
      "       'IsManualReport', 'LogId', 'WeightDate', 'time', 'am_pm'],\n",
      "      dtype='object')\n"
     ]
    }
   ],
   "source": [
    "print(\"Column names of heart_rate:\", heart_rate.columns)\n",
    "print(\"Column names of calories_min:\", calories_min.columns)\n",
    "print(\"Column names of intensity_steps:\", intensity_steps.columns)\n",
    "print(\"Column names of weight:\", weight.columns)"
   ]
  },
  {
   "cell_type": "code",
   "execution_count": 61,
   "metadata": {},
   "outputs": [
    {
     "ename": "KeyError",
     "evalue": "'Intensity'",
     "output_type": "error",
     "traceback": [
      "\u001b[0;31m---------------------------------------------------------------------------\u001b[0m",
      "\u001b[0;31mKeyError\u001b[0m                                  Traceback (most recent call last)",
      "File \u001b[0;32m~/.local/lib/python3.8/site-packages/pandas/core/indexes/base.py:3653\u001b[0m, in \u001b[0;36mIndex.get_loc\u001b[0;34m(self, key)\u001b[0m\n\u001b[1;32m   3652\u001b[0m \u001b[39mtry\u001b[39;00m:\n\u001b[0;32m-> 3653\u001b[0m     \u001b[39mreturn\u001b[39;00m \u001b[39mself\u001b[39;49m\u001b[39m.\u001b[39;49m_engine\u001b[39m.\u001b[39;49mget_loc(casted_key)\n\u001b[1;32m   3654\u001b[0m \u001b[39mexcept\u001b[39;00m \u001b[39mKeyError\u001b[39;00m \u001b[39mas\u001b[39;00m err:\n",
      "File \u001b[0;32m~/.local/lib/python3.8/site-packages/pandas/_libs/index.pyx:147\u001b[0m, in \u001b[0;36mpandas._libs.index.IndexEngine.get_loc\u001b[0;34m()\u001b[0m\n",
      "File \u001b[0;32m~/.local/lib/python3.8/site-packages/pandas/_libs/index.pyx:176\u001b[0m, in \u001b[0;36mpandas._libs.index.IndexEngine.get_loc\u001b[0;34m()\u001b[0m\n",
      "File \u001b[0;32mpandas/_libs/hashtable_class_helper.pxi:7080\u001b[0m, in \u001b[0;36mpandas._libs.hashtable.PyObjectHashTable.get_item\u001b[0;34m()\u001b[0m\n",
      "File \u001b[0;32mpandas/_libs/hashtable_class_helper.pxi:7088\u001b[0m, in \u001b[0;36mpandas._libs.hashtable.PyObjectHashTable.get_item\u001b[0;34m()\u001b[0m\n",
      "\u001b[0;31mKeyError\u001b[0m: 'Intensity'",
      "\nThe above exception was the direct cause of the following exception:\n",
      "\u001b[0;31mKeyError\u001b[0m                                  Traceback (most recent call last)",
      "\u001b[1;32m/home/linuxlite/Desktop/project/main.ipynb Cell 20\u001b[0m line \u001b[0;36m1\n\u001b[0;32m----> <a href='vscode-notebook-cell:/home/linuxlite/Desktop/project/main.ipynb#X26sZmlsZQ%3D%3D?line=0'>1</a>\u001b[0m intensity_steps\u001b[39m.\u001b[39mloc[(intensity_steps[\u001b[39m'\u001b[39m\u001b[39mTotalSteps\u001b[39m\u001b[39m'\u001b[39m] \u001b[39m==\u001b[39m \u001b[39m0\u001b[39m) \u001b[39m&\u001b[39m (intensity_steps[\u001b[39m'\u001b[39;49m\u001b[39mIntensity\u001b[39;49m\u001b[39m'\u001b[39;49m] \u001b[39m!=\u001b[39m \u001b[39m0\u001b[39m), \u001b[39m'\u001b[39m\u001b[39mTotalSteps\u001b[39m\u001b[39m'\u001b[39m] \u001b[39m=\u001b[39m \u001b[39m1\u001b[39m\n",
      "File \u001b[0;32m~/.local/lib/python3.8/site-packages/pandas/core/frame.py:3761\u001b[0m, in \u001b[0;36mDataFrame.__getitem__\u001b[0;34m(self, key)\u001b[0m\n\u001b[1;32m   3759\u001b[0m \u001b[39mif\u001b[39;00m \u001b[39mself\u001b[39m\u001b[39m.\u001b[39mcolumns\u001b[39m.\u001b[39mnlevels \u001b[39m>\u001b[39m \u001b[39m1\u001b[39m:\n\u001b[1;32m   3760\u001b[0m     \u001b[39mreturn\u001b[39;00m \u001b[39mself\u001b[39m\u001b[39m.\u001b[39m_getitem_multilevel(key)\n\u001b[0;32m-> 3761\u001b[0m indexer \u001b[39m=\u001b[39m \u001b[39mself\u001b[39;49m\u001b[39m.\u001b[39;49mcolumns\u001b[39m.\u001b[39;49mget_loc(key)\n\u001b[1;32m   3762\u001b[0m \u001b[39mif\u001b[39;00m is_integer(indexer):\n\u001b[1;32m   3763\u001b[0m     indexer \u001b[39m=\u001b[39m [indexer]\n",
      "File \u001b[0;32m~/.local/lib/python3.8/site-packages/pandas/core/indexes/base.py:3655\u001b[0m, in \u001b[0;36mIndex.get_loc\u001b[0;34m(self, key)\u001b[0m\n\u001b[1;32m   3653\u001b[0m     \u001b[39mreturn\u001b[39;00m \u001b[39mself\u001b[39m\u001b[39m.\u001b[39m_engine\u001b[39m.\u001b[39mget_loc(casted_key)\n\u001b[1;32m   3654\u001b[0m \u001b[39mexcept\u001b[39;00m \u001b[39mKeyError\u001b[39;00m \u001b[39mas\u001b[39;00m err:\n\u001b[0;32m-> 3655\u001b[0m     \u001b[39mraise\u001b[39;00m \u001b[39mKeyError\u001b[39;00m(key) \u001b[39mfrom\u001b[39;00m \u001b[39merr\u001b[39;00m\n\u001b[1;32m   3656\u001b[0m \u001b[39mexcept\u001b[39;00m \u001b[39mTypeError\u001b[39;00m:\n\u001b[1;32m   3657\u001b[0m     \u001b[39m# If we have a listlike key, _check_indexing_error will raise\u001b[39;00m\n\u001b[1;32m   3658\u001b[0m     \u001b[39m#  InvalidIndexError. Otherwise we fall through and re-raise\u001b[39;00m\n\u001b[1;32m   3659\u001b[0m     \u001b[39m#  the TypeError.\u001b[39;00m\n\u001b[1;32m   3660\u001b[0m     \u001b[39mself\u001b[39m\u001b[39m.\u001b[39m_check_indexing_error(key)\n",
      "\u001b[0;31mKeyError\u001b[0m: 'Intensity'"
     ]
    }
   ],
   "source": [
    "intensity_steps.loc[(intensity_steps['TotalSteps'] == 0) & 'TotalSteps'] = 1\n"
   ]
  },
  {
   "cell_type": "code",
   "execution_count": 62,
   "metadata": {},
   "outputs": [
    {
     "data": {
      "text/html": [
       "<div>\n",
       "<style scoped>\n",
       "    .dataframe tbody tr th:only-of-type {\n",
       "        vertical-align: middle;\n",
       "    }\n",
       "\n",
       "    .dataframe tbody tr th {\n",
       "        vertical-align: top;\n",
       "    }\n",
       "\n",
       "    .dataframe thead th {\n",
       "        text-align: right;\n",
       "    }\n",
       "</style>\n",
       "<table border=\"1\" class=\"dataframe\">\n",
       "  <thead>\n",
       "    <tr style=\"text-align: right;\">\n",
       "      <th></th>\n",
       "      <th>Id</th>\n",
       "      <th>ActivityDate</th>\n",
       "      <th>TotalSteps</th>\n",
       "    </tr>\n",
       "  </thead>\n",
       "  <tbody>\n",
       "    <tr>\n",
       "      <th>0</th>\n",
       "      <td>1</td>\n",
       "      <td>2023-01-01</td>\n",
       "      <td>5000</td>\n",
       "    </tr>\n",
       "    <tr>\n",
       "      <th>1</th>\n",
       "      <td>2</td>\n",
       "      <td>2023-01-02</td>\n",
       "      <td>7000</td>\n",
       "    </tr>\n",
       "    <tr>\n",
       "      <th>2</th>\n",
       "      <td>3</td>\n",
       "      <td>2023-01-03</td>\n",
       "      <td>6000</td>\n",
       "    </tr>\n",
       "  </tbody>\n",
       "</table>\n",
       "</div>"
      ],
      "text/plain": [
       "   Id ActivityDate  TotalSteps\n",
       "0   1   2023-01-01        5000\n",
       "1   2   2023-01-02        7000\n",
       "2   3   2023-01-03        6000"
      ]
     },
     "execution_count": 62,
     "metadata": {},
     "output_type": "execute_result"
    }
   ],
   "source": [
    "intensity_steps"
   ]
  }
 ],
 "metadata": {
  "kernelspec": {
   "display_name": "Python 3",
   "language": "python",
   "name": "python3"
  },
  "language_info": {
   "codemirror_mode": {
    "name": "ipython",
    "version": 3
   },
   "file_extension": ".py",
   "mimetype": "text/x-python",
   "name": "python",
   "nbconvert_exporter": "python",
   "pygments_lexer": "ipython3",
   "version": "3.8.10"
  }
 },
 "nbformat": 4,
 "nbformat_minor": 2
}
