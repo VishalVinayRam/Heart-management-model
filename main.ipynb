{
 "cells": [
  {
   "cell_type": "code",
   "execution_count": 20,
   "metadata": {},
   "outputs": [],
   "source": [
    "import pandas as pd\n",
    "import matplotlib.pyplot as plt\n",
    "import seaborn as sns\n",
    "from datetime import datetime"
   ]
  },
  {
   "cell_type": "code",
   "execution_count": 21,
   "metadata": {},
   "outputs": [],
   "source": [
    "daily_act = pd.read_csv('./dailyActivity_merged.csv')\n",
    "sleep_day = pd.read_csv('./sleepDay_merged.csv')\n",
    "sleep_min = pd.read_csv('./minuteSleep_merged.csv')\n",
    "step_min = pd.read_csv('./minuteStepsNarrow_merged.csv')\n",
    "intens_min = pd.read_csv('./minuteIntensitiesNarrow_merged.csv')\n",
    "heart_rate = pd.read_csv('./heartrate_seconds_merged.csv')\n",
    "weight = pd.read_csv('./weightLogInfo_merged.csv')\n",
    "calories_min = pd.read_csv('./minuteCaloriesNarrow_merged.csv')"
   ]
  },
  {
   "cell_type": "code",
   "execution_count": 22,
   "metadata": {},
   "outputs": [],
   "source": [
    "daily_act = pd.read_csv('./dailyActivity_merged.csv')\n",
    "sleep_day = pd.read_csv('./sleepDay_merged.csv')\n",
    "sleep_min = pd.read_csv('./minuteSleep_merged.csv')\n",
    "step_min = pd.read_csv('./minuteStepsNarrow_merged.csv')\n",
    "intens_min = pd.read_csv('./minuteIntensitiesNarrow_merged.csv')\n",
    "heart_rate = pd.read_csv('./heartrate_seconds_merged.csv')\n",
    "weight = pd.read_csv('./weightLogInfo_merged.csv')\n",
    "calories_min = pd.read_csv('./minuteCaloriesNarrow_merged.csv')"
   ]
  },
  {
   "cell_type": "code",
   "execution_count": 23,
   "metadata": {},
   "outputs": [],
   "source": [
    "distinct_daily_act = daily_act['Id'].nunique()\n",
    "distinct_sleep_day = sleep_day['Id'].nunique()\n",
    "distinct_sleep_min = sleep_min['Id'].nunique()\n",
    "distinct_step_min = step_min['Id'].nunique()\n",
    "distinct_intens_min = intens_min['Id'].nunique()\n",
    "distinct_heart_rate = heart_rate['Id'].nunique()\n",
    "distinct_weight = weight['Id'].nunique()\n",
    "distinct_calories_min = calories_min['Id'].nunique()\n"
   ]
  },
  {
   "cell_type": "code",
   "execution_count": 24,
   "metadata": {},
   "outputs": [],
   "source": [
    "duplicates_daily_act = daily_act.duplicated(subset=['Id']).sum()\n",
    "duplicates_sleep_day = sleep_day.duplicated(subset=['Id']).sum()\n",
    "duplicates_sleep_min = sleep_min.duplicated(subset=['Id']).sum()\n",
    "duplicates_step_min = step_min.duplicated(subset=['Id']).sum()\n",
    "duplicates_intens_min = intens_min.duplicated(subset=['Id']).sum()\n",
    "duplicates_heart_rate = heart_rate.duplicated(subset=['Id']).sum()\n",
    "duplicates_weight = weight.duplicated(subset=['Id']).sum()\n",
    "duplicates_calories_min = calories_min.duplicated(subset=['Id']).sum()"
   ]
  },
  {
   "cell_type": "code",
   "execution_count": 25,
   "metadata": {},
   "outputs": [],
   "source": [
    "sleep_day = sleep_day.drop_duplicates(subset=['Id'])\n",
    "sleep_min = sleep_min.drop_duplicates(subset=['Id'])"
   ]
  },
  {
   "cell_type": "code",
   "execution_count": 26,
   "metadata": {},
   "outputs": [
    {
     "name": "stdout",
     "output_type": "stream",
     "text": [
      "       category  user_number\n",
      "0       low use            1\n",
      "1  moderate use            3\n",
      "2      high use           29\n"
     ]
    }
   ],
   "source": [
    "Id_days = daily_act.groupby('Id').size().reset_index(name='days')\n",
    "\n",
    "Id_days['category'] = pd.cut(Id_days['days'],\n",
    "                             bins=[0, 10, 20, 31],\n",
    "                             labels=[\"low use\", \"moderate use\", \"high use\"])\n",
    "\n",
    "Id_days_new = Id_days.groupby('category').size().reset_index(name='user_number')\n",
    "\n",
    "print(Id_days_new.head())"
   ]
  },
  {
   "cell_type": "code",
   "execution_count": null,
   "metadata": {},
   "outputs": [],
   "source": [
    "import pandas as pd\n",
    "\n",
    "\n",
    "daily_act['ActivityDate'] = pd.to_datetime(daily_act['ActivityDate'], format='%m/%d/%Y')\n",
    "\n",
    "print(\"Column names of sleep_day:\", sleep_day.columns)\n",
    "\n",
    "sleep_day1 = sleep_day[['SleepDay']].copy()\n",
    "sleep_day1[['ActivityDate', 'time', 'am_pm']] = sleep_day1['SleepDay'].str.split(' ', expand=True)\n",
    "sleep_day1['ActivityDate'] = pd.to_datetime(sleep_day1['ActivityDate'], format='%m/%d/%Y')\n",
    "\n",
    "sleep_day1 = pd.merge(sleep_day1, daily_act[['Id', 'ActivityDate']], on='ActivityDate', how='left')\n",
    "\n",
    "full_day = pd.merge(daily_act, sleep_day1, on=['Id', 'ActivityDate'], how='outer')\n",
    "\n",
    "full_day = full_day.fillna(0)\n",
    "\n",
    "print(full_day.head())"
   ]
  },
  {
   "cell_type": "code",
   "execution_count": null,
   "metadata": {},
   "outputs": [],
   "source": [
    "sleep_min = sleep_min.copy()\n",
    "\n",
    "sleep_min['minutes'] = sleep_min['value']\n",
    "\n",
    "sleep_min.loc[sleep_min['minutes'] != 0, 'minutes'] = 1\n",
    "\n",
    "print(sleep_min.describe())"
   ]
  },
  {
   "cell_type": "code",
   "execution_count": null,
   "metadata": {},
   "outputs": [],
   "source": [
    "\n"
   ]
  },
  {
   "cell_type": "code",
   "execution_count": null,
   "metadata": {},
   "outputs": [],
   "source": []
  },
  {
   "cell_type": "code",
   "execution_count": null,
   "metadata": {},
   "outputs": [],
   "source": []
  },
  {
   "cell_type": "code",
   "execution_count": null,
   "metadata": {},
   "outputs": [],
   "source": []
  },
  {
   "cell_type": "code",
   "execution_count": null,
   "metadata": {},
   "outputs": [],
   "source": []
  },
  {
   "cell_type": "code",
   "execution_count": null,
   "metadata": {},
   "outputs": [],
   "source": []
  }
 ],
 "metadata": {
  "kernelspec": {
   "display_name": "Python 3",
   "language": "python",
   "name": "python3"
  },
  "language_info": {
   "codemirror_mode": {
    "name": "ipython",
    "version": 3
   },
   "file_extension": ".py",
   "mimetype": "text/x-python",
   "name": "python",
   "nbconvert_exporter": "python",
   "pygments_lexer": "ipython3",
   "version": "3.8.10"
  }
 },
 "nbformat": 4,
 "nbformat_minor": 2
}
